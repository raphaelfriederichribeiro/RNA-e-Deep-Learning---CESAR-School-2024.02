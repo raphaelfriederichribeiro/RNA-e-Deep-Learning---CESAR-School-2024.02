{
  "cells": [
    {
      "cell_type": "markdown",
      "metadata": {
        "id": "5yQgzdjbf9RT"
      },
      "source": [
        "# Regressão Linear com NumPy"
      ]
    },
    {
      "cell_type": "markdown",
      "metadata": {
        "heading_collapsed": true,
        "id": "p5HfrYM3f9RU"
      },
      "source": [
        "## Objetivos deste experimento"
      ]
    },
    {
      "cell_type": "markdown",
      "metadata": {
        "hidden": true,
        "id": "IIYC2db7f9RW"
      },
      "source": [
        "Este exemplo utiliza regressão linear para estimar o comprimento das sépalas da íris a partir do seu comprimento das pétalas.\n",
        "Utiliza-se programação totalmente NumPy com:\n",
        "- o **cálculo do gradiente**,\n",
        "- a **função de perda** e\n",
        "- a atualização dos parâmetros são feitos de forma explícita.\n",
        "- A rede é criada com uma camada como uma classe"
      ]
    },
    {
      "cell_type": "markdown",
      "metadata": {
        "hidden": true,
        "id": "ImJOZIiNf9RW"
      },
      "source": [
        "![alt text](https://raw.githubusercontent.com/vcasadei/images/master/RegressaoLinear_Otimizacao.png)"
      ]
    },
    {
      "cell_type": "markdown",
      "metadata": {
        "heading_collapsed": true,
        "id": "EeTHWCuMf9RX"
      },
      "source": [
        "## Importação dos pacotes"
      ]
    },
    {
      "cell_type": "code",
      "execution_count": null,
      "metadata": {
        "ExecuteTime": {
          "end_time": "2017-10-08T11:19:38.728936Z",
          "start_time": "2017-10-08T11:19:36.888541Z"
        },
        "hidden": true,
        "id": "5yPytaCLf9RY"
      },
      "outputs": [],
      "source": [
        "%matplotlib inline\n",
        "import matplotlib.pyplot as plt   # para plotting\n",
        "\n",
        "from sklearn.datasets import load_iris  # para carregar dataset\n",
        "\n",
        "import numpy as np  # processamento matricial\n",
        "\n",
        "np.random.seed(1234)"
      ]
    },
    {
      "cell_type": "markdown",
      "metadata": {
        "heading_collapsed": true,
        "id": "wDkSLSnmf9Rc"
      },
      "source": [
        "## Dataset"
      ]
    },
    {
      "cell_type": "markdown",
      "metadata": {
        "heading_collapsed": true,
        "hidden": true,
        "id": "ldcOnrBvf9Rd"
      },
      "source": [
        "### Leitura dos dados"
      ]
    },
    {
      "cell_type": "code",
      "execution_count": null,
      "metadata": {
        "ExecuteTime": {
          "end_time": "2017-10-08T11:19:38.747769Z",
          "start_time": "2017-10-08T11:19:38.730907Z"
        },
        "colab": {
          "base_uri": "https://localhost:8080/"
        },
        "hidden": true,
        "id": "l3t1qaa0f9Re",
        "outputId": "fc98339d-5586-4790-c853-12d48a565743"
      },
      "outputs": [
        {
          "output_type": "stream",
          "name": "stdout",
          "text": [
            "x_train.shape: (50, 1) float64\n",
            "y_train.shape: (50, 1) float64\n",
            "x_train[:5]:\n",
            " [[7. ]\n",
            " [6.4]\n",
            " [6.9]\n",
            " [5.5]\n",
            " [6.5]]\n",
            "y_train[:5]:\n",
            " [[4.7]\n",
            " [4.5]\n",
            " [4.9]\n",
            " [4. ]\n",
            " [4.6]]\n"
          ]
        }
      ],
      "source": [
        "iris = load_iris()\n",
        "data = iris.data[iris.target==1,::2]  # comprimento das sépalas e pétalas, indices 0 e 2\n",
        "\n",
        "x_train = data[:,0:1]\n",
        "y_train = data[:,1:2]\n",
        "\n",
        "n_samples = x_train.shape[0]\n",
        "print('x_train.shape:',x_train.shape, x_train.dtype)\n",
        "print('y_train.shape:',y_train.shape, y_train.dtype)\n",
        "\n",
        "print('x_train[:5]:\\n', x_train[:5])\n",
        "print('y_train[:5]:\\n', y_train[:5])"
      ]
    },
    {
      "cell_type": "markdown",
      "metadata": {
        "hidden": true,
        "id": "aPQ-L6FVf9Rk"
      },
      "source": [
        "### Normalização dos dados"
      ]
    },
    {
      "cell_type": "code",
      "execution_count": null,
      "metadata": {
        "ExecuteTime": {
          "end_time": "2017-10-08T11:19:38.756343Z",
          "start_time": "2017-10-08T11:19:38.750395Z"
        },
        "hidden": true,
        "id": "POM323GEf9Rl"
      },
      "outputs": [],
      "source": [
        "x_train -= x_train.min()\n",
        "x_train /= x_train.max()\n",
        "y_train -= y_train.min()\n",
        "y_train /= y_train.max()"
      ]
    },
    {
      "cell_type": "code",
      "execution_count": null,
      "metadata": {
        "ExecuteTime": {
          "end_time": "2017-10-08T11:19:39.127199Z",
          "start_time": "2017-10-08T11:19:38.759104Z"
        },
        "colab": {
          "base_uri": "https://localhost:8080/",
          "height": 467
        },
        "hidden": true,
        "id": "dx5AO9Qxf9Rn",
        "outputId": "37f5307f-5b3a-4416-d9ab-f4a90604ac65"
      },
      "outputs": [
        {
          "output_type": "execute_result",
          "data": {
            "text/plain": [
              "Text(0, 0.5, 'Comprimento petalas')"
            ]
          },
          "metadata": {},
          "execution_count": 4
        },
        {
          "output_type": "display_data",
          "data": {
            "text/plain": [
              "<Figure size 640x480 with 1 Axes>"
            ],
            "image/png": "[encoded data removed]"
          },
          "metadata": {}
        }
      ],
      "source": [
        "plt.scatter(x_train,y_train)\n",
        "plt.xlabel('Comprimento sepalas')\n",
        "plt.ylabel('Comprimento petalas')"
      ]
    },
    {
      "cell_type": "markdown",
      "metadata": {
        "heading_collapsed": true,
        "id": "poW81teqf9Rr"
      },
      "source": [
        "## Modelo da rede"
      ]
    },
    {
      "cell_type": "markdown",
      "metadata": {
        "hidden": true,
        "id": "QXFLlJ0_f9Rt"
      },
      "source": [
        "### Reta de ajuste"
      ]
    },
    {
      "cell_type": "markdown",
      "metadata": {
        "hidden": true,
        "id": "s7JuPXysf9Rt"
      },
      "source": [
        "A equação da reta no plano necessita de dois parâmetros, aqui denominados $w_0$ (*bias*) e inclinação $w_1$. Veja figura:\n",
        "\n",
        "![alt text](https://raw.githubusercontent.com/vcasadei/images/master/linhareta.png)\n",
        "\n",
        "A reta de ajuste será dada por:\n",
        "\n",
        "$$ \\hat{y} = w_0 + w_1 x $$\n",
        "\n",
        "onde\n",
        "* $w_1$ é o coeficiente angular da reta e\n",
        "* $w_0$ é a interseção do eixo vertical quando x é igual a zero, também denominado de *bias*.\n",
        "* $x$ é a variável de entrada (comprimento das sépalas) e\n",
        "* $\\hat{y}$ é a predição (comprimento estimado das pétalas)."
      ]
    },
    {
      "cell_type": "markdown",
      "metadata": {
        "hidden": true,
        "id": "hwin_xPff9Ru"
      },
      "source": [
        "### Linear Regression Model"
      ]
    },
    {
      "cell_type": "markdown",
      "metadata": {
        "hidden": true,
        "id": "c7ilOLnkf9Rw"
      },
      "source": [
        "![alt text](https://raw.githubusercontent.com/vcasadei/images/master/RegressaoLinearNeuronio.png)"
      ]
    },
    {
      "cell_type": "markdown",
      "metadata": {
        "hidden": true,
        "id": "H0CzMB91f9Rx"
      },
      "source": [
        "### Formulação matricial do neurônio"
      ]
    },
    {
      "cell_type": "markdown",
      "metadata": {
        "hidden": true,
        "id": "-wWz_wpYf9Ry"
      },
      "source": [
        "* $\\mathbf{w} = [w_0 \\ w_1]$ é vetor linha de parâmetros e\n",
        "* $\\mathbf{x} = [1 \\ x_0] $ é vetor linha de uma amostra (com *bias*).\n",
        "\n",
        "$$ \\hat{y} = 1 w_0 + x_0 w_1 $$\n",
        "\n",
        "$$ [\\hat{y}] = [1 \\ x_0] \\begin{bmatrix} w_0 \\\\ w_1 \\end{bmatrix} $$\n",
        "\n",
        "$$ \\mathbf{\\hat{y}} = \\mathbf{x} \\mathbf{w^T} $$"
      ]
    },
    {
      "cell_type": "markdown",
      "metadata": {
        "hidden": true,
        "id": "rQ1lc-dYf9Rz"
      },
      "source": [
        "### Fazendo o predict de várias amostras"
      ]
    },
    {
      "cell_type": "markdown",
      "metadata": {
        "hidden": true,
        "id": "fh068Clrf9R0"
      },
      "source": [
        "$$ \\begin{matrix}\n",
        "\\begin{bmatrix}\n",
        "\\hat{y}_0\\\\\n",
        "\\hat{y}_1\\\\\n",
        "\\\\\n",
        "\\hat{y}_{M-1}\n",
        "\\end{bmatrix} &=& \\begin{bmatrix}\n",
        "1 & x_0 \\\\\n",
        "1 & x_1\\\\\n",
        "\\\\\n",
        "1 & x_{M-1} \\\\\n",
        "\\end{bmatrix}\n",
        "&\n",
        "\\begin{bmatrix}\n",
        "w_0\\\\\n",
        "w_1\n",
        "\\end{bmatrix} \\\\\n",
        "(M,1) & & (M,2) & (2,1) \\\\\n",
        "\\end{matrix} $$"
      ]
    },
    {
      "cell_type": "markdown",
      "metadata": {
        "hidden": true,
        "id": "jjSchAsZf9R2"
      },
      "source": [
        "### Preenchendo x com coluna de 1's para bias"
      ]
    },
    {
      "cell_type": "code",
      "source": [
        "x_train"
      ],
      "metadata": {
        "colab": {
          "base_uri": "https://localhost:8080/"
        },
        "id": "Zj6rX02mduaX",
        "outputId": "f1c937a6-624f-4371-fcbe-e26e2b1233b4"
      },
      "execution_count": null,
      "outputs": [
        {
          "output_type": "execute_result",
          "data": {
            "text/plain": [
              "array([[1.        ],\n",
              "       [0.71428571],\n",
              "       [0.95238095],\n",
              "       [0.28571429],\n",
              "       [0.76190476],\n",
              "       [0.38095238],\n",
              "       [0.66666667],\n",
              "       [0.        ],\n",
              "       [0.80952381],\n",
              "       [0.14285714],\n",
              "       [0.04761905],\n",
              "       [0.47619048],\n",
              "       [0.52380952],\n",
              "       [0.57142857],\n",
              "       [0.33333333],\n",
              "       [0.85714286],\n",
              "       [0.33333333],\n",
              "       [0.42857143],\n",
              "       [0.61904762],\n",
              "       [0.33333333],\n",
              "       [0.47619048],\n",
              "       [0.57142857],\n",
              "       [0.66666667],\n",
              "       [0.57142857],\n",
              "       [0.71428571],\n",
              "       [0.80952381],\n",
              "       [0.9047619 ],\n",
              "       [0.85714286],\n",
              "       [0.52380952],\n",
              "       [0.38095238],\n",
              "       [0.28571429],\n",
              "       [0.28571429],\n",
              "       [0.42857143],\n",
              "       [0.52380952],\n",
              "       [0.23809524],\n",
              "       [0.52380952],\n",
              "       [0.85714286],\n",
              "       [0.66666667],\n",
              "       [0.33333333],\n",
              "       [0.28571429],\n",
              "       [0.28571429],\n",
              "       [0.57142857],\n",
              "       [0.42857143],\n",
              "       [0.04761905],\n",
              "       [0.33333333],\n",
              "       [0.38095238],\n",
              "       [0.38095238],\n",
              "       [0.61904762],\n",
              "       [0.0952381 ],\n",
              "       [0.38095238]])"
            ]
          },
          "metadata": {},
          "execution_count": 5
        }
      ]
    },
    {
      "cell_type": "code",
      "execution_count": null,
      "metadata": {
        "ExecuteTime": {
          "end_time": "2017-10-08T11:19:39.135089Z",
          "start_time": "2017-10-08T11:19:39.129385Z"
        },
        "hidden": true,
        "id": "plZEY5-tf9R2",
        "colab": {
          "base_uri": "https://localhost:8080/"
        },
        "outputId": "365558e4-691a-47c2-a3c1-7e97f554e755"
      },
      "outputs": [
        {
          "output_type": "execute_result",
          "data": {
            "text/plain": [
              "array([[1.        , 1.        ],\n",
              "       [1.        , 0.71428571],\n",
              "       [1.        , 0.95238095],\n",
              "       [1.        , 0.28571429],\n",
              "       [1.        , 0.76190476],\n",
              "       [1.        , 0.38095238],\n",
              "       [1.        , 0.66666667],\n",
              "       [1.        , 0.        ],\n",
              "       [1.        , 0.80952381],\n",
              "       [1.        , 0.14285714],\n",
              "       [1.        , 0.04761905],\n",
              "       [1.        , 0.47619048],\n",
              "       [1.        , 0.52380952],\n",
              "       [1.        , 0.57142857],\n",
              "       [1.        , 0.33333333],\n",
              "       [1.        , 0.85714286],\n",
              "       [1.        , 0.33333333],\n",
              "       [1.        , 0.42857143],\n",
              "       [1.        , 0.61904762],\n",
              "       [1.        , 0.33333333],\n",
              "       [1.        , 0.47619048],\n",
              "       [1.        , 0.57142857],\n",
              "       [1.        , 0.66666667],\n",
              "       [1.        , 0.57142857],\n",
              "       [1.        , 0.71428571],\n",
              "       [1.        , 0.80952381],\n",
              "       [1.        , 0.9047619 ],\n",
              "       [1.        , 0.85714286],\n",
              "       [1.        , 0.52380952],\n",
              "       [1.        , 0.38095238],\n",
              "       [1.        , 0.28571429],\n",
              "       [1.        , 0.28571429],\n",
              "       [1.        , 0.42857143],\n",
              "       [1.        , 0.52380952],\n",
              "       [1.        , 0.23809524],\n",
              "       [1.        , 0.52380952],\n",
              "       [1.        , 0.85714286],\n",
              "       [1.        , 0.66666667],\n",
              "       [1.        , 0.33333333],\n",
              "       [1.        , 0.28571429],\n",
              "       [1.        , 0.28571429],\n",
              "       [1.        , 0.57142857],\n",
              "       [1.        , 0.42857143],\n",
              "       [1.        , 0.04761905],\n",
              "       [1.        , 0.33333333],\n",
              "       [1.        , 0.38095238],\n",
              "       [1.        , 0.38095238],\n",
              "       [1.        , 0.61904762],\n",
              "       [1.        , 0.0952381 ],\n",
              "       [1.        , 0.38095238]])"
            ]
          },
          "metadata": {},
          "execution_count": 6
        }
      ],
      "source": [
        "x_train_bias = np.hstack([np.ones(shape=(n_samples,1)), x_train])\n",
        "x_train_bias"
      ]
    },
    {
      "cell_type": "markdown",
      "metadata": {
        "hidden": true,
        "id": "GOtS_8OSf9SC"
      },
      "source": [
        "### Classe com o modelo da rede"
      ]
    },
    {
      "cell_type": "code",
      "source": [
        "np.random.uniform(-0.1,0.1,(1,2))"
      ],
      "metadata": {
        "colab": {
          "base_uri": "https://localhost:8080/"
        },
        "id": "kx4-ksCfeeNl",
        "outputId": "7e0471cb-84ee-4c04-c80b-76afae564962"
      },
      "execution_count": null,
      "outputs": [
        {
          "output_type": "execute_result",
          "data": {
            "text/plain": [
              "array([[-0.06169611,  0.02442175]])"
            ]
          },
          "metadata": {},
          "execution_count": 7
        }
      ]
    },
    {
      "cell_type": "code",
      "execution_count": null,
      "metadata": {
        "ExecuteTime": {
          "end_time": "2017-10-08T11:19:39.143879Z",
          "start_time": "2017-10-08T11:19:39.137134Z"
        },
        "hidden": true,
        "id": "aKLVIQUtf9SD"
      },
      "outputs": [],
      "source": [
        "class Net():\n",
        "    def __init__(self, n_in, n_out):\n",
        "        # self.w = np.random.uniform(-0.1,0.1,(n_out,n_in)) #inicialização dos parâmetros\n",
        "        self.np.zeros(shape=(n_out,n_in))\n",
        "\n",
        "    def forward(self, x_bias):\n",
        "        return x_bias.dot(self.w.T)"
      ]
    },
    {
      "cell_type": "markdown",
      "metadata": {
        "hidden": true,
        "id": "0j0hN9l_f9SH"
      },
      "source": [
        "### Criando a rede, instanciando o objeto model"
      ]
    },
    {
      "cell_type": "code",
      "execution_count": null,
      "metadata": {
        "ExecuteTime": {
          "end_time": "2017-10-08T11:19:39.151717Z",
          "start_time": "2017-10-08T11:19:39.146858Z"
        },
        "hidden": true,
        "id": "5o5Zkqn5f9SI"
      },
      "outputs": [],
      "source": [
        "model = Net(2,1) # duas entradas (1 + x0) e uma saída y_pred"
      ]
    },
    {
      "cell_type": "code",
      "source": [
        "model.w"
      ],
      "metadata": {
        "colab": {
          "base_uri": "https://localhost:8080/"
        },
        "id": "1ifyD07zfMqv",
        "outputId": "4e20232f-0946-4a16-fdf4-3936b29216b9"
      },
      "execution_count": null,
      "outputs": [
        {
          "output_type": "execute_result",
          "data": {
            "text/plain": [
              "array([[-0.01245445,  0.05707172]])"
            ]
          },
          "metadata": {},
          "execution_count": 10
        }
      ]
    },
    {
      "cell_type": "markdown",
      "metadata": {
        "hidden": true,
        "id": "F3yolUOGf9SL"
      },
      "source": [
        "### Testando o predict da rede (mesmo sem treiná-la)"
      ]
    },
    {
      "cell_type": "code",
      "execution_count": null,
      "metadata": {
        "ExecuteTime": {
          "end_time": "2017-10-08T11:19:39.162189Z",
          "start_time": "2017-10-08T11:19:39.156018Z"
        },
        "colab": {
          "base_uri": "https://localhost:8080/"
        },
        "hidden": true,
        "id": "BzkEurfof9SN",
        "outputId": "6c3995b6-d5e2-42ba-f831-121aae25fae8"
      },
      "outputs": [
        {
          "output_type": "execute_result",
          "data": {
            "text/plain": [
              "array([[ 0.05960645],\n",
              "       [-0.04703319],\n",
              "       [-0.12818937],\n",
              "       [ 0.042289  ]])"
            ]
          },
          "metadata": {},
          "execution_count": 11
        }
      ],
      "source": [
        "xin = np.random.randn(4,2) # 4 amostras, 2 entradas (1 + x0)\n",
        "ypred = model.forward(xin)\n",
        "ypred"
      ]
    },
    {
      "cell_type": "code",
      "source": [
        "ypred = model.forward(x_train_bias)\n",
        "ypred"
      ],
      "metadata": {
        "colab": {
          "base_uri": "https://localhost:8080/"
        },
        "id": "lEqqdpFwf8tC",
        "outputId": "08580145-20dd-46e7-9d03-79fe60b60e77"
      },
      "execution_count": null,
      "outputs": [
        {
          "output_type": "execute_result",
          "data": {
            "text/plain": [
              "array([[ 0.04461726],\n",
              "       [ 0.02831106],\n",
              "       [ 0.04189956],\n",
              "       [ 0.00385175],\n",
              "       [ 0.03102876],\n",
              "       [ 0.00928715],\n",
              "       [ 0.02559336],\n",
              "       [-0.01245445],\n",
              "       [ 0.03374646],\n",
              "       [-0.00430135],\n",
              "       [-0.00973675],\n",
              "       [ 0.01472256],\n",
              "       [ 0.01744026],\n",
              "       [ 0.02015796],\n",
              "       [ 0.00656945],\n",
              "       [ 0.03646416],\n",
              "       [ 0.00656945],\n",
              "       [ 0.01200485],\n",
              "       [ 0.02287566],\n",
              "       [ 0.00656945],\n",
              "       [ 0.01472256],\n",
              "       [ 0.02015796],\n",
              "       [ 0.02559336],\n",
              "       [ 0.02015796],\n",
              "       [ 0.02831106],\n",
              "       [ 0.03374646],\n",
              "       [ 0.03918186],\n",
              "       [ 0.03646416],\n",
              "       [ 0.01744026],\n",
              "       [ 0.00928715],\n",
              "       [ 0.00385175],\n",
              "       [ 0.00385175],\n",
              "       [ 0.01200485],\n",
              "       [ 0.01744026],\n",
              "       [ 0.00113405],\n",
              "       [ 0.01744026],\n",
              "       [ 0.03646416],\n",
              "       [ 0.02559336],\n",
              "       [ 0.00656945],\n",
              "       [ 0.00385175],\n",
              "       [ 0.00385175],\n",
              "       [ 0.02015796],\n",
              "       [ 0.01200485],\n",
              "       [-0.00973675],\n",
              "       [ 0.00656945],\n",
              "       [ 0.00928715],\n",
              "       [ 0.00928715],\n",
              "       [ 0.02287566],\n",
              "       [-0.00701905],\n",
              "       [ 0.00928715]])"
            ]
          },
          "metadata": {},
          "execution_count": 12
        }
      ]
    },
    {
      "cell_type": "markdown",
      "metadata": {
        "heading_collapsed": true,
        "id": "edoSiy--f9SS"
      },
      "source": [
        "## Treinamento via gradiente descendente"
      ]
    },
    {
      "cell_type": "markdown",
      "metadata": {
        "hidden": true,
        "id": "SnkXXFref9ST"
      },
      "source": [
        "Função de perda:\n",
        "$$ J(\\hat{y_i},y_i) = \\frac{1}{M} \\sum_{i=0}^{M-1} (\\hat{y_i} - y_i)^2 $$"
      ]
    },
    {
      "cell_type": "markdown",
      "metadata": {
        "ExecuteTime": {
          "end_time": "2017-10-05T14:05:06.244776",
          "start_time": "2017-10-05T14:05:06.240743"
        },
        "hidden": true,
        "id": "6W5QcPwUf9SU"
      },
      "source": [
        "Gradiente:\n",
        "$$  \\mathbf{\\nabla{J_w}} = \\frac{2}{M}\\mathbf{x^T}(\\mathbf{x w^T} - \\mathbf{y}) $$"
      ]
    },
    {
      "cell_type": "markdown",
      "metadata": {
        "ExecuteTime": {
          "end_time": "2017-10-05T14:06:17.929718",
          "start_time": "2017-10-05T14:06:17.925519"
        },
        "hidden": true,
        "id": "6OoQuuvAf9SU"
      },
      "source": [
        "Atualização dos parâmetros pelo gradiente descendente:\n",
        "$$ \\mathbf{w} = \\mathbf{w} − \\eta (\\mathbf{\\nabla J_w})^T $$"
      ]
    },
    {
      "cell_type": "markdown",
      "metadata": {
        "hidden": true,
        "id": "YM0fEnAdf9SW"
      },
      "source": [
        "### Laço de treinamento"
      ]
    },
    {
      "cell_type": "code",
      "execution_count": null,
      "metadata": {
        "ExecuteTime": {
          "end_time": "2017-10-08T11:19:39.183784Z",
          "start_time": "2017-10-08T11:19:39.165347Z"
        },
        "colab": {
          "base_uri": "https://localhost:8080/"
        },
        "hidden": true,
        "id": "BiCGgqp6f9SX",
        "outputId": "b6f3dde9-b458-43ad-d44b-58ccd2dcc98c",
        "scrolled": false
      },
      "outputs": [
        {
          "output_type": "stream",
          "name": "stdout",
          "text": [
            "Epoch[1/100], loss: 0.386029\n",
            "Epoch[2/100], loss: 0.052426\n",
            "Epoch[3/100], loss: 0.029975\n",
            "Epoch[4/100], loss: 0.027887\n",
            "Epoch[5/100], loss: 0.027185\n",
            "Epoch[6/100], loss: 0.026625\n",
            "Epoch[7/100], loss: 0.026123\n",
            "Epoch[8/100], loss: 0.025666\n",
            "Epoch[9/100], loss: 0.025252\n",
            "Epoch[10/100], loss: 0.024876\n",
            "Epoch[11/100], loss: 0.024535\n",
            "Epoch[12/100], loss: 0.024225\n",
            "Epoch[13/100], loss: 0.023943\n",
            "Epoch[14/100], loss: 0.023688\n",
            "Epoch[15/100], loss: 0.023456\n",
            "Epoch[16/100], loss: 0.023245\n",
            "Epoch[17/100], loss: 0.023054\n",
            "Epoch[18/100], loss: 0.022881\n",
            "Epoch[19/100], loss: 0.022723\n",
            "Epoch[20/100], loss: 0.022580\n",
            "Epoch[21/100], loss: 0.022450\n",
            "Epoch[22/100], loss: 0.022332\n",
            "Epoch[23/100], loss: 0.022225\n",
            "Epoch[24/100], loss: 0.022128\n",
            "Epoch[25/100], loss: 0.022040\n",
            "Epoch[26/100], loss: 0.021959\n",
            "Epoch[27/100], loss: 0.021887\n",
            "Epoch[28/100], loss: 0.021821\n",
            "Epoch[29/100], loss: 0.021761\n",
            "Epoch[30/100], loss: 0.021706\n",
            "Epoch[31/100], loss: 0.021657\n",
            "Epoch[32/100], loss: 0.021612\n",
            "Epoch[33/100], loss: 0.021571\n",
            "Epoch[34/100], loss: 0.021534\n",
            "Epoch[35/100], loss: 0.021501\n",
            "Epoch[36/100], loss: 0.021470\n",
            "Epoch[37/100], loss: 0.021442\n",
            "Epoch[38/100], loss: 0.021417\n",
            "Epoch[39/100], loss: 0.021394\n",
            "Epoch[40/100], loss: 0.021374\n",
            "Epoch[41/100], loss: 0.021355\n",
            "Epoch[42/100], loss: 0.021338\n",
            "Epoch[43/100], loss: 0.021322\n",
            "Epoch[44/100], loss: 0.021308\n",
            "Epoch[45/100], loss: 0.021295\n",
            "Epoch[46/100], loss: 0.021284\n",
            "Epoch[47/100], loss: 0.021273\n",
            "Epoch[48/100], loss: 0.021264\n",
            "Epoch[49/100], loss: 0.021255\n",
            "Epoch[50/100], loss: 0.021247\n",
            "Epoch[51/100], loss: 0.021240\n",
            "Epoch[52/100], loss: 0.021233\n",
            "Epoch[53/100], loss: 0.021228\n",
            "Epoch[54/100], loss: 0.021222\n",
            "Epoch[55/100], loss: 0.021217\n",
            "Epoch[56/100], loss: 0.021213\n",
            "Epoch[57/100], loss: 0.021209\n",
            "Epoch[58/100], loss: 0.021205\n",
            "Epoch[59/100], loss: 0.021202\n",
            "Epoch[60/100], loss: 0.021199\n",
            "Epoch[61/100], loss: 0.021196\n",
            "Epoch[62/100], loss: 0.021194\n",
            "Epoch[63/100], loss: 0.021192\n",
            "Epoch[64/100], loss: 0.021190\n",
            "Epoch[65/100], loss: 0.021188\n",
            "Epoch[66/100], loss: 0.021186\n",
            "Epoch[67/100], loss: 0.021184\n",
            "Epoch[68/100], loss: 0.021183\n",
            "Epoch[69/100], loss: 0.021182\n",
            "Epoch[70/100], loss: 0.021181\n",
            "Epoch[71/100], loss: 0.021180\n",
            "Epoch[72/100], loss: 0.021179\n",
            "Epoch[73/100], loss: 0.021178\n",
            "Epoch[74/100], loss: 0.021177\n",
            "Epoch[75/100], loss: 0.021176\n",
            "Epoch[76/100], loss: 0.021176\n",
            "Epoch[77/100], loss: 0.021175\n",
            "Epoch[78/100], loss: 0.021175\n",
            "Epoch[79/100], loss: 0.021174\n",
            "Epoch[80/100], loss: 0.021174\n",
            "Epoch[81/100], loss: 0.021173\n",
            "Epoch[82/100], loss: 0.021173\n",
            "Epoch[83/100], loss: 0.021173\n",
            "Epoch[84/100], loss: 0.021172\n",
            "Epoch[85/100], loss: 0.021172\n",
            "Epoch[86/100], loss: 0.021172\n",
            "Epoch[87/100], loss: 0.021172\n",
            "Epoch[88/100], loss: 0.021171\n",
            "Epoch[89/100], loss: 0.021171\n",
            "Epoch[90/100], loss: 0.021171\n",
            "Epoch[91/100], loss: 0.021171\n",
            "Epoch[92/100], loss: 0.021171\n",
            "Epoch[93/100], loss: 0.021171\n",
            "Epoch[94/100], loss: 0.021171\n",
            "Epoch[95/100], loss: 0.021170\n",
            "Epoch[96/100], loss: 0.021170\n",
            "Epoch[97/100], loss: 0.021170\n",
            "Epoch[98/100], loss: 0.021170\n",
            "Epoch[99/100], loss: 0.021170\n",
            "Epoch[100/100], loss: 0.021170\n"
          ]
        }
      ],
      "source": [
        "num_epochs = 100\n",
        "learning_rate = 0.5\n",
        "for epoch in range(num_epochs):\n",
        "\n",
        "    # forward - predict\n",
        "    y_pred = model.forward(x_train_bias)\n",
        "\n",
        "    #loss cálculo da função de perda\n",
        "    loss = np.square(y_pred - y_train).mean()\n",
        "\n",
        "    # cálculo do gradiente pelas derivadas parciais\n",
        "    w_grad = (2.0/n_samples) * (x_train_bias.T).dot(x_train_bias.dot(model.w.T) - y_train)\n",
        "\n",
        "    # gradiente descendente\n",
        "    model.w = model.w - learning_rate * w_grad.T\n",
        "\n",
        "    # verbose\n",
        "    if (epoch+1) % 1 == 0:\n",
        "        print('Epoch[{}/{}], loss: {:.6f}'\n",
        "              .format(epoch+1, num_epochs, loss))"
      ]
    },
    {
      "cell_type": "code",
      "source": [
        "model.w"
      ],
      "metadata": {
        "colab": {
          "base_uri": "https://localhost:8080/"
        },
        "id": "44DpP3rdkw8f",
        "outputId": "67895ad6-e266-4c68-cca5-36c7876ac5ca"
      },
      "execution_count": null,
      "outputs": [
        {
          "output_type": "execute_result",
          "data": {
            "text/plain": [
              "array([[0.26293022, 0.68340143]])"
            ]
          },
          "metadata": {},
          "execution_count": 14
        }
      ]
    },
    {
      "cell_type": "markdown",
      "metadata": {
        "heading_collapsed": true,
        "id": "1QGlDZABf9Sd"
      },
      "source": [
        "## Avaliação"
      ]
    },
    {
      "cell_type": "markdown",
      "metadata": {
        "hidden": true,
        "id": "6TIimlCmf9Si"
      },
      "source": [
        "### Predict"
      ]
    },
    {
      "cell_type": "code",
      "execution_count": null,
      "metadata": {
        "ExecuteTime": {
          "end_time": "2017-10-08T11:19:39.408412Z",
          "start_time": "2017-10-08T11:19:39.186021Z"
        },
        "colab": {
          "base_uri": "https://localhost:8080/",
          "height": 448
        },
        "hidden": true,
        "id": "ToXwbrlsf9Sk",
        "outputId": "4385c66a-b51c-4bef-ca2e-d9072bc898fd"
      },
      "outputs": [
        {
          "output_type": "execute_result",
          "data": {
            "text/plain": [
              "[<matplotlib.lines.Line2D at 0x7a53ffff9d50>]"
            ]
          },
          "metadata": {},
          "execution_count": 15
        },
        {
          "output_type": "display_data",
          "data": {
            "text/plain": [
              "<Figure size 640x480 with 1 Axes>"
            ],
            "image/png": "[encoded data removed]"
          },
          "metadata": {}
        }
      ],
      "source": [
        "y_pred = model.forward(x_train_bias)\n",
        "plt.plot(x_train, y_train, 'ro', label='Original data')\n",
        "plt.plot(x_train, y_pred, 'kx-', label='Fitting Line')"
      ]
    },
    {
      "cell_type": "markdown",
      "metadata": {
        "hidden": true,
        "id": "kQ1hGdItf9So"
      },
      "source": [
        "### Parâmetros treinados"
      ]
    },
    {
      "cell_type": "code",
      "execution_count": null,
      "metadata": {
        "ExecuteTime": {
          "end_time": "2017-10-08T11:19:39.417569Z",
          "start_time": "2017-10-08T11:19:39.411060Z"
        },
        "colab": {
          "base_uri": "https://localhost:8080/"
        },
        "hidden": true,
        "id": "IcEOxTg9f9Sp",
        "outputId": "ef897cf2-711c-44d7-b386-4c7e5a4919f0"
      },
      "outputs": [
        {
          "output_type": "stream",
          "name": "stdout",
          "text": [
            "[[0.26293022 0.68340143]]\n"
          ]
        }
      ],
      "source": [
        "print(model.w)"
      ]
    },
    {
      "cell_type": "markdown",
      "metadata": {
        "hidden": true,
        "id": "73n0qSOMf9Sr"
      },
      "source": [
        "### Avaliação do modelo"
      ]
    },
    {
      "cell_type": "code",
      "execution_count": null,
      "metadata": {
        "colab": {
          "base_uri": "https://localhost:8080/"
        },
        "hidden": true,
        "id": "dI2TE8W6f9Ss",
        "outputId": "c1be9e73-762f-4811-87e8-5a41745d1f36"
      },
      "outputs": [
        {
          "output_type": "execute_result",
          "data": {
            "text/plain": [
              "np.float64(0.02116998714788002)"
            ]
          },
          "metadata": {},
          "execution_count": 17
        }
      ],
      "source": [
        "# MSE\n",
        "loss = np.square(y_pred - y_train).mean()\n",
        "loss"
      ]
    },
    {
      "cell_type": "markdown",
      "metadata": {
        "hidden": true,
        "id": "cv6q3ElSf9Sv"
      },
      "source": [
        "### Valor ótimo, solução analítica"
      ]
    },
    {
      "cell_type": "markdown",
      "metadata": {
        "hidden": true,
        "id": "qYgHOaNmf9Sv"
      },
      "source": [
        "$$  \\mathbf{w} =(\\mathbf{x^T} \\mathbf{x})^{−1}\\mathbf{x^T} \\mathbf{y} $$"
      ]
    },
    {
      "cell_type": "code",
      "execution_count": null,
      "metadata": {
        "ExecuteTime": {
          "end_time": "2017-10-08T11:19:39.432480Z",
          "start_time": "2017-10-08T11:19:39.420006Z"
        },
        "colab": {
          "base_uri": "https://localhost:8080/"
        },
        "hidden": true,
        "id": "OmrggYvmf9Sw",
        "outputId": "e7ef3324-a5a3-47d4-e549-f23da3eb99cd"
      },
      "outputs": [
        {
          "output_type": "stream",
          "name": "stdout",
          "text": [
            "[[0.26134159 0.68646976]]\n"
          ]
        }
      ],
      "source": [
        "x = x_train_bias\n",
        "y = y_train\n",
        "w_opt = (np.linalg.inv((x.T).dot(x)).dot(x.T)).dot(y)\n",
        "print(w_opt.T)"
      ]
    },
    {
      "cell_type": "code",
      "source": [
        "model.w"
      ],
      "metadata": {
        "colab": {
          "base_uri": "https://localhost:8080/"
        },
        "id": "ZCEK1dGylm1j",
        "outputId": "edefc9fe-8052-4bb8-ecab-94a4a2c38f7c"
      },
      "execution_count": null,
      "outputs": [
        {
          "output_type": "execute_result",
          "data": {
            "text/plain": [
              "array([[0.26293022, 0.68340143]])"
            ]
          },
          "metadata": {},
          "execution_count": 20
        }
      ]
    },
    {
      "cell_type": "markdown",
      "metadata": {
        "heading_collapsed": true,
        "id": "2eMOcW8Ff9Sz"
      },
      "source": [
        "# Exercícios"
      ]
    },
    {
      "cell_type": "markdown",
      "metadata": {
        "hidden": true,
        "id": "tCKeOB1-f9S1"
      },
      "source": [
        "## Questões"
      ]
    },
    {
      "cell_type": "markdown",
      "metadata": {
        "hidden": true,
        "id": "c-KyP13vf9S2"
      },
      "source": [
        "1. Quantos parâmetros são treinados nesse modelo?\n",
        "2 parametros. Sendo eles, w0 e w1\n",
        "\n",
        "2. Qual é o número de atributos de entrada para a rede?\n",
        "Apenas um, sendo ele o X e Bias  = 2\n",
        "\n",
        "3. Qual é o número de saídas da rede?\n",
        "Apenas um, sendo ele o Y\n",
        "\n",
        "4. Suponha que eu tenha agora 5 mil amostras para fazer a predição. Qual é o shape da matriz de entrada?\n",
        "  [5000, 2]\n",
        "   Qual é o shape do matriz de saída?\n",
        "   [5000, 1]\n"
      ]
    },
    {
      "cell_type": "markdown",
      "metadata": {
        "hidden": true,
        "id": "oaj0t2gpf9S3"
      },
      "source": [
        "## Atividades"
      ]
    },
    {
      "cell_type": "markdown",
      "metadata": {
        "hidden": true,
        "id": "pR_fNYurf9S3"
      },
      "source": [
        "1. Modifique o laço do treinamento via gradiente descendente para guardar em uma lista, o valor da perda no final\n",
        "   de cada época. Após o treinamento, plote o valor da perda em função da época.\n",
        "2. Calcule o valor da perda (MSE) da rede com os parâmetros inicializados, sem serem treinados.\n",
        "3. Coloque os valores dos pesos da solução ótima analítica no modelo da rede e calcule o valor da perda (MSE) e\n",
        "   compare com o valor da perda obtida pelo método da otimização via gradiente descendente."
      ]
    },
    {
      "cell_type": "code",
      "source": [
        "model = Net(2,1)"
      ],
      "metadata": {
        "id": "fVOzijhYtuEs"
      },
      "execution_count": null,
      "outputs": []
    },
    {
      "cell_type": "code",
      "source": [
        "# 1\n",
        "num_epochs = 100\n",
        "learning_rate = 0.5\n",
        "losses = []\n",
        "for epoch in range(num_epochs):\n",
        "\n",
        "    # forward - predict\n",
        "    y_pred = model.forward(x_train_bias)\n",
        "\n",
        "    #loss cálculo da função de perda\n",
        "    loss = np.square(y_pred - y_train).mean()\n",
        "\n",
        "    # cálculo do gradiente pelas derivadas parciais\n",
        "    w_grad = (2.0/n_samples) * (x_train_bias.T).dot(x_train_bias.dot(model.w.T) - y_train)\n",
        "\n",
        "    # gradiente descendente\n",
        "    model.w = model.w - learning_rate * w_grad.T\n",
        "\n",
        "    losses.append(loss)\n",
        "\n",
        "    # verbose\n",
        "    if (epoch+1) % 1 == 0:\n",
        "        print('Epoch[{}/{}], loss: {:.6f}'\n",
        "              .format(epoch+1, num_epochs, loss))\n",
        "print(losses)"
      ],
      "metadata": {
        "colab": {
          "base_uri": "https://localhost:8080/"
        },
        "id": "hUWcFzKPrmQq",
        "outputId": "d59eb683-b591-4364-f80c-ff83eea970a8"
      },
      "execution_count": null,
      "outputs": [
        {
          "output_type": "stream",
          "name": "stdout",
          "text": [
            "Epoch[1/100], loss: 0.476608\n",
            "Epoch[2/100], loss: 0.064072\n",
            "Epoch[3/100], loss: 0.035943\n",
            "Epoch[4/100], loss: 0.033005\n",
            "Epoch[5/100], loss: 0.031812\n",
            "Epoch[6/100], loss: 0.030825\n",
            "Epoch[7/100], loss: 0.029935\n",
            "Epoch[8/100], loss: 0.029128\n",
            "Epoch[9/100], loss: 0.028395\n",
            "Epoch[10/100], loss: 0.027730\n",
            "Epoch[11/100], loss: 0.027125\n",
            "Epoch[12/100], loss: 0.026577\n",
            "Epoch[13/100], loss: 0.026079\n",
            "Epoch[14/100], loss: 0.025627\n",
            "Epoch[15/100], loss: 0.025216\n",
            "Epoch[16/100], loss: 0.024843\n",
            "Epoch[17/100], loss: 0.024505\n",
            "Epoch[18/100], loss: 0.024198\n",
            "Epoch[19/100], loss: 0.023919\n",
            "Epoch[20/100], loss: 0.023666\n",
            "Epoch[21/100], loss: 0.023436\n",
            "Epoch[22/100], loss: 0.023227\n",
            "Epoch[23/100], loss: 0.023038\n",
            "Epoch[24/100], loss: 0.022866\n",
            "Epoch[25/100], loss: 0.022709\n",
            "Epoch[26/100], loss: 0.022568\n",
            "Epoch[27/100], loss: 0.022439\n",
            "Epoch[28/100], loss: 0.022322\n",
            "Epoch[29/100], loss: 0.022216\n",
            "Epoch[30/100], loss: 0.022119\n",
            "Epoch[31/100], loss: 0.022032\n",
            "Epoch[32/100], loss: 0.021952\n",
            "Epoch[33/100], loss: 0.021880\n",
            "Epoch[34/100], loss: 0.021815\n",
            "Epoch[35/100], loss: 0.021755\n",
            "Epoch[36/100], loss: 0.021701\n",
            "Epoch[37/100], loss: 0.021652\n",
            "Epoch[38/100], loss: 0.021608\n",
            "Epoch[39/100], loss: 0.021568\n",
            "Epoch[40/100], loss: 0.021531\n",
            "Epoch[41/100], loss: 0.021498\n",
            "Epoch[42/100], loss: 0.021467\n",
            "Epoch[43/100], loss: 0.021440\n",
            "Epoch[44/100], loss: 0.021415\n",
            "Epoch[45/100], loss: 0.021392\n",
            "Epoch[46/100], loss: 0.021372\n",
            "Epoch[47/100], loss: 0.021353\n",
            "Epoch[48/100], loss: 0.021336\n",
            "Epoch[49/100], loss: 0.021321\n",
            "Epoch[50/100], loss: 0.021307\n",
            "Epoch[51/100], loss: 0.021294\n",
            "Epoch[52/100], loss: 0.021283\n",
            "Epoch[53/100], loss: 0.021272\n",
            "Epoch[54/100], loss: 0.021263\n",
            "Epoch[55/100], loss: 0.021254\n",
            "Epoch[56/100], loss: 0.021246\n",
            "Epoch[57/100], loss: 0.021239\n",
            "Epoch[58/100], loss: 0.021233\n",
            "Epoch[59/100], loss: 0.021227\n",
            "Epoch[60/100], loss: 0.021222\n",
            "Epoch[61/100], loss: 0.021217\n",
            "Epoch[62/100], loss: 0.021213\n",
            "Epoch[63/100], loss: 0.021209\n",
            "Epoch[64/100], loss: 0.021205\n",
            "Epoch[65/100], loss: 0.021202\n",
            "Epoch[66/100], loss: 0.021199\n",
            "Epoch[67/100], loss: 0.021196\n",
            "Epoch[68/100], loss: 0.021194\n",
            "Epoch[69/100], loss: 0.021191\n",
            "Epoch[70/100], loss: 0.021189\n",
            "Epoch[71/100], loss: 0.021188\n",
            "Epoch[72/100], loss: 0.021186\n",
            "Epoch[73/100], loss: 0.021184\n",
            "Epoch[74/100], loss: 0.021183\n",
            "Epoch[75/100], loss: 0.021182\n",
            "Epoch[76/100], loss: 0.021181\n",
            "Epoch[77/100], loss: 0.021180\n",
            "Epoch[78/100], loss: 0.021179\n",
            "Epoch[79/100], loss: 0.021178\n",
            "Epoch[80/100], loss: 0.021177\n",
            "Epoch[81/100], loss: 0.021176\n",
            "Epoch[82/100], loss: 0.021176\n",
            "Epoch[83/100], loss: 0.021175\n",
            "Epoch[84/100], loss: 0.021175\n",
            "Epoch[85/100], loss: 0.021174\n",
            "Epoch[86/100], loss: 0.021174\n",
            "Epoch[87/100], loss: 0.021173\n",
            "Epoch[88/100], loss: 0.021173\n",
            "Epoch[89/100], loss: 0.021173\n",
            "Epoch[90/100], loss: 0.021172\n",
            "Epoch[91/100], loss: 0.021172\n",
            "Epoch[92/100], loss: 0.021172\n",
            "Epoch[93/100], loss: 0.021172\n",
            "Epoch[94/100], loss: 0.021171\n",
            "Epoch[95/100], loss: 0.021171\n",
            "Epoch[96/100], loss: 0.021171\n",
            "Epoch[97/100], loss: 0.021171\n",
            "Epoch[98/100], loss: 0.021171\n",
            "Epoch[99/100], loss: 0.021171\n",
            "Epoch[100/100], loss: 0.021171\n",
            "[np.float64(0.47660782116551287), np.float64(0.06407200029749549), np.float64(0.035942908579775085), np.float64(0.03300490266292989), np.float64(0.03181196546433303), np.float64(0.030825092901589076), np.float64(0.029935385529584916), np.float64(0.02912802802772866), np.float64(0.028395053380487957), np.float64(0.02772958609302307), np.float64(0.027125407232531727), np.float64(0.026576872141323146), np.float64(0.0260788561236504), np.float64(0.025626706465301508), np.float64(0.02521619895890921), np.float64(0.024843498438863305), np.float64(0.024505122951254586), np.float64(0.024197911223725086), np.float64(0.023918993131286922), np.float64(0.02366576288218495), np.float64(0.023435854673292168), np.float64(0.023227120587598488), np.float64(0.023037610527300027), np.float64(0.022865553995014127), np.float64(0.022709343552910807), np.float64(0.022567519805227875), np.float64(0.02243875776386878), np.float64(0.022321854469703757), np.float64(0.022215717753926483), np.float64(0.022119356034468997), np.float64(0.022031869052148097), np.float64(0.021952439459995664), np.float64(0.021880325187196053), np.float64(0.02181485250629099), np.float64(0.021755409738882), np.float64(0.021701441541026104), np.float64(0.02165244371493613), np.float64(0.02160795849851379), np.float64(0.021567570288708128), np.float64(0.021530901758744853), np.float64(0.02149761033295159), np.float64(0.021467384986245338), np.float64(0.021439943338381232), np.float64(0.02141502901581559), np.float64(0.021392409256536616), np.float64(0.021371872735485683), np.float64(0.021353227590253418), np.float64(0.021336299628605483), np.float64(0.021320930701091943), np.float64(0.021306977223536357), np.float64(0.021294308835600843), np.float64(0.02128280718289489), np.float64(0.021272364811249674), np.float64(0.021262884162827705), np.float64(0.02125427666468889), np.float64(0.02124646190129802), np.float64(0.021239366863242782), np.float64(0.021232925265143466), np.float64(0.02122707692638191), np.float64(0.02122176720886421), np.float64(0.021216946506564426), np.float64(0.021212569782080366), np.float64(0.021208596145871762), np.float64(0.02120498847424977), np.float64(0.021201713062549064), np.float64(0.021198739310241948), np.float64(0.02119603943505309), np.float64(0.021193588213403603), np.float64(0.021191362744759815), np.float64(0.021189342237685115), np.float64(0.021187507815595943), np.float64(0.021185842340407372), np.float64(0.021184330252420572), np.float64(0.021182957424956378), np.float64(0.021181711032376774), np.float64(0.021180579430261425), np.float64(0.021179552046619695), np.float64(0.02117861928312183), np.float64(0.02117777242542662), np.float64(0.021177003561767615), np.float64(0.021176305509037537), np.float64(0.021175671745680066), np.float64(0.021175096350762215), np.float64(0.021174573948658057), np.float64(0.0211740996588269), np.float64(0.021173669050216896), np.float64(0.021173278099867913), np.float64(0.021172923155327043), np.float64(0.02117260090052559), np.float64(0.021172308324798664), np.float64(0.021172042694758107), np.float64(0.021171801528755734), np.float64(0.02117158257369863), np.float64(0.0211713837839996), np.float64(0.021171203302466243), np.float64(0.021171039442950162), np.float64(0.021170890674594153), np.float64(0.021170755607530123), np.float64(0.02117063297989428), np.float64(0.02117052164603816)]\n"
          ]
        }
      ]
    },
    {
      "cell_type": "code",
      "source": [
        "# 2\n",
        "model = Net(2,1)\n",
        "print(model.w)\n",
        "y_pred = model.forward(x_train_bias)\n",
        "print(y_pred)\n",
        "loss = np.square(y_pred - y_train).mean()\n",
        "print(loss)"
      ],
      "metadata": {
        "colab": {
          "base_uri": "https://localhost:8080/"
        },
        "id": "hVgJD-JvsOXQ",
        "outputId": "1679a9a6-9dba-43ec-9cbe-5ed81d6081fe"
      },
      "execution_count": null,
      "outputs": [
        {
          "output_type": "stream",
          "name": "stdout",
          "text": [
            "[[-0.0270228   0.02307924]]\n",
            "[[-0.00394357]\n",
            " [-0.01053763]\n",
            " [-0.00504258]\n",
            " [-0.02042874]\n",
            " [-0.00943862]\n",
            " [-0.01823071]\n",
            " [-0.01163665]\n",
            " [-0.0270228 ]\n",
            " [-0.00833961]\n",
            " [-0.02372577]\n",
            " [-0.02592379]\n",
            " [-0.01603269]\n",
            " [-0.01493368]\n",
            " [-0.01383467]\n",
            " [-0.01932972]\n",
            " [-0.0072406 ]\n",
            " [-0.01932972]\n",
            " [-0.0171317 ]\n",
            " [-0.01273566]\n",
            " [-0.01932972]\n",
            " [-0.01603269]\n",
            " [-0.01383467]\n",
            " [-0.01163665]\n",
            " [-0.01383467]\n",
            " [-0.01053763]\n",
            " [-0.00833961]\n",
            " [-0.00614159]\n",
            " [-0.0072406 ]\n",
            " [-0.01493368]\n",
            " [-0.01823071]\n",
            " [-0.02042874]\n",
            " [-0.02042874]\n",
            " [-0.0171317 ]\n",
            " [-0.01493368]\n",
            " [-0.02152775]\n",
            " [-0.01493368]\n",
            " [-0.0072406 ]\n",
            " [-0.01163665]\n",
            " [-0.01932972]\n",
            " [-0.02042874]\n",
            " [-0.02042874]\n",
            " [-0.01383467]\n",
            " [-0.0171317 ]\n",
            " [-0.02592379]\n",
            " [-0.01932972]\n",
            " [-0.01823071]\n",
            " [-0.01823071]\n",
            " [-0.01273566]\n",
            " [-0.02482478]\n",
            " [-0.01823071]]\n",
            "0.42623474067847744\n"
          ]
        }
      ]
    },
    {
      "cell_type": "code",
      "source": [
        "# 3\n",
        "model = Net(2,1)\n",
        "num_epochs = 100\n",
        "learning_rate = 0.5\n",
        "losses = []\n",
        "for epoch in range(num_epochs):\n",
        "\n",
        "    # forward - predict\n",
        "    y_pred = model.forward(x_train_bias)\n",
        "\n",
        "    #loss cálculo da função de perda\n",
        "    loss = np.square(y_pred - y_train).mean()\n",
        "\n",
        "    # cálculo do gradiente pelas derivadas parciais\n",
        "    w_grad = (2.0/n_samples) * (x_train_bias.T).dot(x_train_bias.dot(model.w.T) - y_train)\n",
        "\n",
        "    # gradiente descendente\n",
        "    model.w = model.w - learning_rate * w_grad.T\n",
        "\n",
        "    # verbose\n",
        "    # if (epoch+1) % 1 == 0:\n",
        "    #     print('Epoch[{}/{}], loss: {:.6f}'\n",
        "    #           .format(epoch+1, num_epochs, loss))\n",
        "\n",
        "print(f\"Gradiente: {model.w} e Perda: {loss}\")\n",
        "\n",
        "x = x_train_bias\n",
        "y = y_train\n",
        "w_opt = (np.linalg.inv((x.T).dot(x)).dot(x.T)).dot(y)\n",
        "\n",
        "model.w = w_opt.T\n",
        "y_pred = model.forward(x_train_bias)\n",
        "loss = np.square(y_pred - y_train).mean()\n",
        "\n",
        "\n",
        "print(f\"Solução Ótima: {model.w} e Perda: {loss}\")\n"
      ],
      "metadata": {
        "colab": {
          "base_uri": "https://localhost:8080/"
        },
        "id": "C4urxxtUuU2A",
        "outputId": "52c3334e-cabc-49c6-c07b-fcd123da3acd"
      },
      "execution_count": null,
      "outputs": [
        {
          "output_type": "stream",
          "name": "stdout",
          "text": [
            "Gradiente: [[0.26291435 0.68343208]] e Perda: 0.02117003193539548\n",
            "Solução Ótima: [[0.26134159 0.68646976]] e Perda: 0.021169424119097165\n"
          ]
        }
      ]
    },
    {
      "cell_type": "markdown",
      "metadata": {
        "collapsed": true,
        "id": "tgmMhSm2f9S4"
      },
      "source": [
        "# Aprendizados"
      ]
    }
  ],
  "metadata": {
    "accelerator": "TPU",
    "colab": {
      "provenance": [],
      "gpuType": "V28"
    },
    "kernelspec": {
      "display_name": "Python 3.10.2 64-bit",
      "language": "python",
      "name": "python3"
    },
    "language_info": {
      "name": "python",
      "version": "3.10.2"
    },
    "vscode": {
      "interpreter": {
        "hash": "5fe3e6f0cdaab8afdc61c52912fda83f7c0a71baaea1897dd7498e2df01e69ec"
      }
    }
  },
  "nbformat": 4,
  "nbformat_minor": 0
}